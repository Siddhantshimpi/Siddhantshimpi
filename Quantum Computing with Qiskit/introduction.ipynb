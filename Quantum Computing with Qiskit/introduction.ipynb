{
 "cells": [
  {
   "cell_type": "markdown",
   "id": "3f6148be",
   "metadata": {},
   "source": [
    "The foundation of Python for Quantum Computing is the *Qiskit* library, which provides a comprehensive set of tools for quantum computing. To get started, you need to install Qiskit in your base or venv. You can do this using pip:"
   ]
  },
  {
   "cell_type": "code",
   "execution_count": null,
   "id": "71a3d817",
   "metadata": {},
   "outputs": [],
   "source": [
    "%pip install qiskit"
   ]
  },
  {
   "cell_type": "markdown",
   "id": "944ec19f",
   "metadata": {},
   "source": [
    "If you're using Anaconda, make sure to install pip first for all other packages:"
   ]
  },
  {
   "cell_type": "code",
   "execution_count": null,
   "id": "797dbe0f",
   "metadata": {},
   "outputs": [],
   "source": [
    "%conda install pip\n",
    "%pip install qiskit"
   ]
  },
  {
   "cell_type": "markdown",
   "id": "d8a9e47f",
   "metadata": {},
   "source": [
    "Version should be 2.0.0 or later:"
   ]
  },
  {
   "cell_type": "code",
   "execution_count": 7,
   "id": "e3b09b89",
   "metadata": {},
   "outputs": [
    {
     "data": {
      "text/plain": [
       "'2.1.0'"
      ]
     },
     "execution_count": 7,
     "metadata": {},
     "output_type": "execute_result"
    }
   ],
   "source": [
    "import qiskit\n",
    "qiskit.__version__"
   ]
  },
  {
   "cell_type": "markdown",
   "id": "57f621ea",
   "metadata": {},
   "source": [
    "Matplotlib is also required for visualizations:"
   ]
  },
  {
   "cell_type": "code",
   "execution_count": null,
   "id": "8afe24c6",
   "metadata": {},
   "outputs": [],
   "source": [
    "%pip install qiskit matplotlib"
   ]
  },
  {
   "cell_type": "markdown",
   "id": "1888bfa7",
   "metadata": {},
   "source": [
    "Let's walk you through other packages you might need to install:"
   ]
  },
  {
   "cell_type": "code",
   "execution_count": 3,
   "id": "fcdf3e3e",
   "metadata": {},
   "outputs": [
    {
     "name": "stdout",
     "output_type": "stream",
     "text": [
      "Collecting qiskit-ibm-runtime\n",
      "  Using cached qiskit_ibm_runtime-0.40.1-py3-none-any.whl.metadata (21 kB)\n",
      "Collecting qiskit-aer\n",
      "  Using cached qiskit_aer-0.17.1-cp312-cp312-win_amd64.whl.metadata (8.5 kB)\n",
      "Requirement already satisfied: requests>=2.19 in c:\\users\\dell\\appdata\\local\\programs\\python\\python312\\lib\\site-packages (from qiskit-ibm-runtime) (2.32.4)\n",
      "Requirement already satisfied: requests-ntlm>=1.1.0 in c:\\users\\dell\\appdata\\local\\programs\\python\\python312\\lib\\site-packages (from qiskit-ibm-runtime) (1.2.0)\n",
      "Requirement already satisfied: numpy>=1.13 in c:\\users\\dell\\appdata\\local\\programs\\python\\python312\\lib\\site-packages (from qiskit-ibm-runtime) (1.26.3)\n",
      "Requirement already satisfied: urllib3>=1.21.1 in c:\\users\\dell\\appdata\\local\\programs\\python\\python312\\lib\\site-packages (from qiskit-ibm-runtime) (2.5.0)\n",
      "Requirement already satisfied: python-dateutil>=2.8.0 in c:\\users\\dell\\appdata\\local\\programs\\python\\python312\\lib\\site-packages (from qiskit-ibm-runtime) (2.9.0.post0)\n",
      "Requirement already satisfied: ibm-platform-services>=0.22.6 in c:\\users\\dell\\appdata\\local\\programs\\python\\python312\\lib\\site-packages (from qiskit-ibm-runtime) (0.66.2)\n",
      "Requirement already satisfied: pydantic>=2.5.0 in c:\\users\\dell\\appdata\\local\\programs\\python\\python312\\lib\\site-packages (from qiskit-ibm-runtime) (2.11.7)\n",
      "Requirement already satisfied: qiskit>=1.4.1 in c:\\users\\dell\\appdata\\local\\programs\\python\\python312\\lib\\site-packages (from qiskit-ibm-runtime) (2.1.0)\n",
      "Requirement already satisfied: packaging in c:\\users\\dell\\appdata\\local\\programs\\python\\python312\\lib\\site-packages (from qiskit-ibm-runtime) (23.2)\n",
      "Requirement already satisfied: scipy>=1.0 in c:\\users\\dell\\appdata\\local\\programs\\python\\python312\\lib\\site-packages (from qiskit-aer) (1.11.4)\n",
      "Requirement already satisfied: psutil>=5 in c:\\users\\dell\\appdata\\local\\programs\\python\\python312\\lib\\site-packages (from qiskit-aer) (5.9.7)\n",
      "Requirement already satisfied: ibm_cloud_sdk_core<4.0.0,>=3.24.2 in c:\\users\\dell\\appdata\\local\\programs\\python\\python312\\lib\\site-packages (from ibm-platform-services>=0.22.6->qiskit-ibm-runtime) (3.24.2)\n",
      "Requirement already satisfied: PyJWT<3.0.0,>=2.10.1 in c:\\users\\dell\\appdata\\local\\programs\\python\\python312\\lib\\site-packages (from ibm_cloud_sdk_core<4.0.0,>=3.24.2->ibm-platform-services>=0.22.6->qiskit-ibm-runtime) (2.10.1)\n",
      "Requirement already satisfied: six>=1.5 in c:\\users\\dell\\appdata\\local\\programs\\python\\python312\\lib\\site-packages (from python-dateutil>=2.8.0->qiskit-ibm-runtime) (1.16.0)\n",
      "Requirement already satisfied: charset_normalizer<4,>=2 in c:\\users\\dell\\appdata\\local\\programs\\python\\python312\\lib\\site-packages (from requests>=2.19->qiskit-ibm-runtime) (3.3.2)\n",
      "Requirement already satisfied: idna<4,>=2.5 in c:\\users\\dell\\appdata\\local\\programs\\python\\python312\\lib\\site-packages (from requests>=2.19->qiskit-ibm-runtime) (3.6)\n",
      "Requirement already satisfied: certifi>=2017.4.17 in c:\\users\\dell\\appdata\\local\\programs\\python\\python312\\lib\\site-packages (from requests>=2.19->qiskit-ibm-runtime) (2023.11.17)\n",
      "Requirement already satisfied: annotated-types>=0.6.0 in c:\\users\\dell\\appdata\\local\\programs\\python\\python312\\lib\\site-packages (from pydantic>=2.5.0->qiskit-ibm-runtime) (0.7.0)\n",
      "Requirement already satisfied: pydantic-core==2.33.2 in c:\\users\\dell\\appdata\\local\\programs\\python\\python312\\lib\\site-packages (from pydantic>=2.5.0->qiskit-ibm-runtime) (2.33.2)\n",
      "Requirement already satisfied: typing-extensions>=4.12.2 in c:\\users\\dell\\appdata\\local\\programs\\python\\python312\\lib\\site-packages (from pydantic>=2.5.0->qiskit-ibm-runtime) (4.14.0)\n",
      "Requirement already satisfied: typing-inspection>=0.4.0 in c:\\users\\dell\\appdata\\local\\programs\\python\\python312\\lib\\site-packages (from pydantic>=2.5.0->qiskit-ibm-runtime) (0.4.1)\n",
      "Requirement already satisfied: rustworkx>=0.15.0 in c:\\users\\dell\\appdata\\local\\programs\\python\\python312\\lib\\site-packages (from qiskit>=1.4.1->qiskit-ibm-runtime) (0.16.0)\n",
      "Requirement already satisfied: dill>=0.3 in c:\\users\\dell\\appdata\\local\\programs\\python\\python312\\lib\\site-packages (from qiskit>=1.4.1->qiskit-ibm-runtime) (0.3.7)\n",
      "Requirement already satisfied: stevedore>=3.0.0 in c:\\users\\dell\\appdata\\local\\programs\\python\\python312\\lib\\site-packages (from qiskit>=1.4.1->qiskit-ibm-runtime) (5.1.0)\n",
      "Requirement already satisfied: cryptography>=1.3 in c:\\users\\dell\\appdata\\local\\programs\\python\\python312\\lib\\site-packages (from requests-ntlm>=1.1.0->qiskit-ibm-runtime) (42.0.2)\n",
      "Requirement already satisfied: pyspnego>=0.1.6 in c:\\users\\dell\\appdata\\local\\programs\\python\\python312\\lib\\site-packages (from requests-ntlm>=1.1.0->qiskit-ibm-runtime) (0.10.2)\n",
      "Requirement already satisfied: cffi>=1.12 in c:\\users\\dell\\appdata\\local\\programs\\python\\python312\\lib\\site-packages (from cryptography>=1.3->requests-ntlm>=1.1.0->qiskit-ibm-runtime) (1.16.0)\n",
      "Requirement already satisfied: pycparser in c:\\users\\dell\\appdata\\local\\programs\\python\\python312\\lib\\site-packages (from cffi>=1.12->cryptography>=1.3->requests-ntlm>=1.1.0->qiskit-ibm-runtime) (2.21)\n",
      "Requirement already satisfied: sspilib>=0.1.0 in c:\\users\\dell\\appdata\\local\\programs\\python\\python312\\lib\\site-packages (from pyspnego>=0.1.6->requests-ntlm>=1.1.0->qiskit-ibm-runtime) (0.1.0)\n",
      "Requirement already satisfied: pbr!=2.1.0,>=2.0.0 in c:\\users\\dell\\appdata\\local\\programs\\python\\python312\\lib\\site-packages (from stevedore>=3.0.0->qiskit>=1.4.1->qiskit-ibm-runtime) (6.0.0)\n",
      "Using cached qiskit_ibm_runtime-0.40.1-py3-none-any.whl (3.2 MB)\n",
      "Downloading qiskit_aer-0.17.1-cp312-cp312-win_amd64.whl (9.5 MB)\n",
      "   ---------------------------------------- 0.0/9.5 MB ? eta -:--:--\n",
      "   ---------------------------------------- 0.0/9.5 MB ? eta -:--:--\n",
      "   ---------------------------------------- 0.0/9.5 MB ? eta -:--:--\n",
      "   - -------------------------------------- 0.3/9.5 MB ? eta -:--:--\n",
      "   - -------------------------------------- 0.3/9.5 MB ? eta -:--:--\n",
      "   -- ------------------------------------- 0.5/9.5 MB 598.5 kB/s eta 0:00:16\n",
      "   -- ------------------------------------- 0.5/9.5 MB 598.5 kB/s eta 0:00:16\n",
      "   --- ------------------------------------ 0.8/9.5 MB 609.6 kB/s eta 0:00:15\n",
      "   --- ------------------------------------ 0.8/9.5 MB 609.6 kB/s eta 0:00:15\n",
      "   ---- ----------------------------------- 1.0/9.5 MB 645.1 kB/s eta 0:00:14\n",
      "   ---- ----------------------------------- 1.0/9.5 MB 645.1 kB/s eta 0:00:14\n",
      "   ---- ----------------------------------- 1.0/9.5 MB 645.1 kB/s eta 0:00:14\n",
      "   ----- ---------------------------------- 1.3/9.5 MB 563.8 kB/s eta 0:00:15\n",
      "   ------ --------------------------------- 1.6/9.5 MB 586.5 kB/s eta 0:00:14\n",
      "   ------ --------------------------------- 1.6/9.5 MB 586.5 kB/s eta 0:00:14\n",
      "   ------- -------------------------------- 1.8/9.5 MB 592.0 kB/s eta 0:00:13\n",
      "   ------- -------------------------------- 1.8/9.5 MB 592.0 kB/s eta 0:00:13\n",
      "   -------- ------------------------------- 2.1/9.5 MB 593.1 kB/s eta 0:00:13\n",
      "   -------- ------------------------------- 2.1/9.5 MB 593.1 kB/s eta 0:00:13\n",
      "   --------- ------------------------------ 2.4/9.5 MB 601.8 kB/s eta 0:00:12\n",
      "   --------- ------------------------------ 2.4/9.5 MB 601.8 kB/s eta 0:00:12\n",
      "   ----------- ---------------------------- 2.6/9.5 MB 618.8 kB/s eta 0:00:12\n",
      "   ----------- ---------------------------- 2.6/9.5 MB 618.8 kB/s eta 0:00:12\n",
      "   ------------ --------------------------- 2.9/9.5 MB 607.8 kB/s eta 0:00:11\n",
      "   ------------ --------------------------- 2.9/9.5 MB 607.8 kB/s eta 0:00:11\n",
      "   ------------- -------------------------- 3.1/9.5 MB 611.1 kB/s eta 0:00:11\n",
      "   -------------- ------------------------- 3.4/9.5 MB 623.3 kB/s eta 0:00:10\n",
      "   -------------- ------------------------- 3.4/9.5 MB 623.3 kB/s eta 0:00:10\n",
      "   --------------- ------------------------ 3.7/9.5 MB 626.7 kB/s eta 0:00:10\n",
      "   --------------- ------------------------ 3.7/9.5 MB 626.7 kB/s eta 0:00:10\n",
      "   ---------------- ----------------------- 3.9/9.5 MB 623.0 kB/s eta 0:00:09\n",
      "   ---------------- ----------------------- 3.9/9.5 MB 623.0 kB/s eta 0:00:09\n",
      "   ----------------- ---------------------- 4.2/9.5 MB 633.9 kB/s eta 0:00:09\n",
      "   ------------------ --------------------- 4.5/9.5 MB 640.6 kB/s eta 0:00:08\n",
      "   ------------------ --------------------- 4.5/9.5 MB 640.6 kB/s eta 0:00:08\n",
      "   ------------------- -------------------- 4.7/9.5 MB 638.0 kB/s eta 0:00:08\n",
      "   ------------------- -------------------- 4.7/9.5 MB 638.0 kB/s eta 0:00:08\n",
      "   -------------------- ------------------- 5.0/9.5 MB 643.9 kB/s eta 0:00:08\n",
      "   -------------------- ------------------- 5.0/9.5 MB 643.9 kB/s eta 0:00:08\n",
      "   -------------------- ------------------- 5.0/9.5 MB 643.9 kB/s eta 0:00:08\n",
      "   ---------------------- ----------------- 5.2/9.5 MB 631.2 kB/s eta 0:00:07\n",
      "   ----------------------- ---------------- 5.5/9.5 MB 637.9 kB/s eta 0:00:07\n",
      "   ----------------------- ---------------- 5.5/9.5 MB 637.9 kB/s eta 0:00:07\n",
      "   ------------------------ --------------- 5.8/9.5 MB 640.6 kB/s eta 0:00:06\n",
      "   ------------------------ --------------- 5.8/9.5 MB 640.6 kB/s eta 0:00:06\n",
      "   ------------------------- -------------- 6.0/9.5 MB 640.8 kB/s eta 0:00:06\n",
      "   ------------------------- -------------- 6.0/9.5 MB 640.8 kB/s eta 0:00:06\n",
      "   ------------------------- -------------- 6.0/9.5 MB 640.8 kB/s eta 0:00:06\n",
      "   -------------------------- ------------- 6.3/9.5 MB 631.5 kB/s eta 0:00:06\n",
      "   -------------------------- ------------- 6.3/9.5 MB 631.5 kB/s eta 0:00:06\n",
      "   --------------------------- ------------ 6.6/9.5 MB 628.1 kB/s eta 0:00:05\n",
      "   --------------------------- ------------ 6.6/9.5 MB 628.1 kB/s eta 0:00:05\n",
      "   ---------------------------- ----------- 6.8/9.5 MB 628.8 kB/s eta 0:00:05\n",
      "   ---------------------------- ----------- 6.8/9.5 MB 628.8 kB/s eta 0:00:05\n",
      "   ----------------------------- ---------- 7.1/9.5 MB 629.5 kB/s eta 0:00:04\n",
      "   ----------------------------- ---------- 7.1/9.5 MB 629.5 kB/s eta 0:00:04\n",
      "   ------------------------------ --------- 7.3/9.5 MB 630.0 kB/s eta 0:00:04\n",
      "   ------------------------------ --------- 7.3/9.5 MB 630.0 kB/s eta 0:00:04\n",
      "   ------------------------------- -------- 7.6/9.5 MB 628.0 kB/s eta 0:00:04\n",
      "   ------------------------------- -------- 7.6/9.5 MB 628.0 kB/s eta 0:00:04\n",
      "   --------------------------------- ------ 7.9/9.5 MB 625.3 kB/s eta 0:00:03\n",
      "   --------------------------------- ------ 7.9/9.5 MB 625.3 kB/s eta 0:00:03\n",
      "   ---------------------------------- ----- 8.1/9.5 MB 628.3 kB/s eta 0:00:03\n",
      "   ---------------------------------- ----- 8.1/9.5 MB 628.3 kB/s eta 0:00:03\n",
      "   ----------------------------------- ---- 8.4/9.5 MB 627.4 kB/s eta 0:00:02\n",
      "   ----------------------------------- ---- 8.4/9.5 MB 627.4 kB/s eta 0:00:02\n",
      "   ------------------------------------ --- 8.7/9.5 MB 626.4 kB/s eta 0:00:02\n",
      "   ------------------------------------ --- 8.7/9.5 MB 626.4 kB/s eta 0:00:02\n",
      "   ------------------------------------- -- 8.9/9.5 MB 623.5 kB/s eta 0:00:01\n",
      "   ------------------------------------- -- 8.9/9.5 MB 623.5 kB/s eta 0:00:01\n",
      "   -------------------------------------- - 9.2/9.5 MB 622.7 kB/s eta 0:00:01\n",
      "   -------------------------------------- - 9.2/9.5 MB 622.7 kB/s eta 0:00:01\n",
      "   ---------------------------------------  9.4/9.5 MB 622.7 kB/s eta 0:00:01\n",
      "   ---------------------------------------  9.4/9.5 MB 622.7 kB/s eta 0:00:01\n",
      "   ---------------------------------------  9.4/9.5 MB 622.7 kB/s eta 0:00:01\n",
      "   ---------------------------------------- 9.5/9.5 MB 606.7 kB/s eta 0:00:00\n",
      "Installing collected packages: qiskit-aer, qiskit-ibm-runtime\n",
      "\n",
      "   ---------------------------------------- 0/2 [qiskit-aer]\n",
      "   ---------------------------------------- 0/2 [qiskit-aer]\n",
      "   ---------------------------------------- 0/2 [qiskit-aer]\n",
      "   ---------------------------------------- 0/2 [qiskit-aer]\n",
      "   ---------------------------------------- 0/2 [qiskit-aer]\n",
      "   ---------------------------------------- 0/2 [qiskit-aer]\n",
      "   ---------------------------------------- 0/2 [qiskit-aer]\n",
      "   ---------------------------------------- 0/2 [qiskit-aer]\n",
      "   ---------------------------------------- 0/2 [qiskit-aer]\n",
      "   ---------------------------------------- 0/2 [qiskit-aer]\n",
      "   ---------------------------------------- 0/2 [qiskit-aer]\n",
      "   ---------------------------------------- 0/2 [qiskit-aer]\n",
      "   ---------------------------------------- 0/2 [qiskit-aer]\n",
      "   ---------------------------------------- 0/2 [qiskit-aer]\n",
      "   ---------------------------------------- 0/2 [qiskit-aer]\n",
      "   ---------------------------------------- 0/2 [qiskit-aer]\n",
      "   ---------------------------------------- 0/2 [qiskit-aer]\n",
      "   ---------------------------------------- 0/2 [qiskit-aer]\n",
      "   ---------------------------------------- 0/2 [qiskit-aer]\n",
      "   ---------------------------------------- 0/2 [qiskit-aer]\n",
      "   ---------------------------------------- 0/2 [qiskit-aer]\n",
      "   -------------------- ------------------- 1/2 [qiskit-ibm-runtime]\n",
      "   -------------------- ------------------- 1/2 [qiskit-ibm-runtime]\n",
      "   -------------------- ------------------- 1/2 [qiskit-ibm-runtime]\n",
      "   -------------------- ------------------- 1/2 [qiskit-ibm-runtime]\n",
      "   -------------------- ------------------- 1/2 [qiskit-ibm-runtime]\n",
      "   -------------------- ------------------- 1/2 [qiskit-ibm-runtime]\n",
      "   -------------------- ------------------- 1/2 [qiskit-ibm-runtime]\n",
      "   -------------------- ------------------- 1/2 [qiskit-ibm-runtime]\n",
      "   -------------------- ------------------- 1/2 [qiskit-ibm-runtime]\n",
      "   -------------------- ------------------- 1/2 [qiskit-ibm-runtime]\n",
      "   -------------------- ------------------- 1/2 [qiskit-ibm-runtime]\n",
      "   -------------------- ------------------- 1/2 [qiskit-ibm-runtime]\n",
      "   -------------------- ------------------- 1/2 [qiskit-ibm-runtime]\n",
      "   -------------------- ------------------- 1/2 [qiskit-ibm-runtime]\n",
      "   -------------------- ------------------- 1/2 [qiskit-ibm-runtime]\n",
      "   -------------------- ------------------- 1/2 [qiskit-ibm-runtime]\n",
      "   -------------------- ------------------- 1/2 [qiskit-ibm-runtime]\n",
      "   -------------------- ------------------- 1/2 [qiskit-ibm-runtime]\n",
      "   -------------------- ------------------- 1/2 [qiskit-ibm-runtime]\n",
      "   -------------------- ------------------- 1/2 [qiskit-ibm-runtime]\n",
      "   -------------------- ------------------- 1/2 [qiskit-ibm-runtime]\n",
      "   -------------------- ------------------- 1/2 [qiskit-ibm-runtime]\n",
      "   -------------------- ------------------- 1/2 [qiskit-ibm-runtime]\n",
      "   -------------------- ------------------- 1/2 [qiskit-ibm-runtime]\n",
      "   -------------------- ------------------- 1/2 [qiskit-ibm-runtime]\n",
      "   -------------------- ------------------- 1/2 [qiskit-ibm-runtime]\n",
      "   -------------------- ------------------- 1/2 [qiskit-ibm-runtime]\n",
      "   -------------------- ------------------- 1/2 [qiskit-ibm-runtime]\n",
      "   -------------------- ------------------- 1/2 [qiskit-ibm-runtime]\n",
      "   -------------------- ------------------- 1/2 [qiskit-ibm-runtime]\n",
      "   -------------------- ------------------- 1/2 [qiskit-ibm-runtime]\n",
      "   -------------------- ------------------- 1/2 [qiskit-ibm-runtime]\n",
      "   -------------------- ------------------- 1/2 [qiskit-ibm-runtime]\n",
      "   -------------------- ------------------- 1/2 [qiskit-ibm-runtime]\n",
      "   -------------------- ------------------- 1/2 [qiskit-ibm-runtime]\n",
      "   -------------------- ------------------- 1/2 [qiskit-ibm-runtime]\n",
      "   -------------------- ------------------- 1/2 [qiskit-ibm-runtime]\n",
      "   -------------------- ------------------- 1/2 [qiskit-ibm-runtime]\n",
      "   -------------------- ------------------- 1/2 [qiskit-ibm-runtime]\n",
      "   -------------------- ------------------- 1/2 [qiskit-ibm-runtime]\n",
      "   -------------------- ------------------- 1/2 [qiskit-ibm-runtime]\n",
      "   -------------------- ------------------- 1/2 [qiskit-ibm-runtime]\n",
      "   -------------------- ------------------- 1/2 [qiskit-ibm-runtime]\n",
      "   -------------------- ------------------- 1/2 [qiskit-ibm-runtime]\n",
      "   -------------------- ------------------- 1/2 [qiskit-ibm-runtime]\n",
      "   -------------------- ------------------- 1/2 [qiskit-ibm-runtime]\n",
      "   -------------------- ------------------- 1/2 [qiskit-ibm-runtime]\n",
      "   -------------------- ------------------- 1/2 [qiskit-ibm-runtime]\n",
      "   -------------------- ------------------- 1/2 [qiskit-ibm-runtime]\n",
      "   -------------------- ------------------- 1/2 [qiskit-ibm-runtime]\n",
      "   -------------------- ------------------- 1/2 [qiskit-ibm-runtime]\n",
      "   -------------------- ------------------- 1/2 [qiskit-ibm-runtime]\n",
      "   -------------------- ------------------- 1/2 [qiskit-ibm-runtime]\n",
      "   ---------------------------------------- 2/2 [qiskit-ibm-runtime]\n",
      "\n",
      "Successfully installed qiskit-aer-0.17.1 qiskit-ibm-runtime-0.40.1\n",
      "Note: you may need to restart the kernel to use updated packages.\n"
     ]
    }
   ],
   "source": [
    "%pip install qiskit-ibm-runtime qiskit-aer"
   ]
  },
  {
   "cell_type": "code",
   "execution_count": null,
   "id": "8f87475c",
   "metadata": {},
   "outputs": [],
   "source": [
    "import numpy as np, matplotlib.pyplot as plt\n",
    "plt.style.use(['science', 'notebook', 'grid', 'dark_background'])\n",
    "\n",
    "# OTHER QISKIT IMPORTS\n",
    "\n",
    "from qiskit.visualization import plot_histogram\n",
    "from qiskit_ibm_runtime import QiskitRuntimeService, SamplerV2 as Sampler, EstimatorV2 as Estimator\n",
    "from qiskit_aer import AerSimulator"
   ]
  },
  {
   "cell_type": "code",
   "execution_count": null,
   "id": "edad19f0",
   "metadata": {},
   "outputs": [],
   "source": []
  }
 ],
 "metadata": {
  "kernelspec": {
   "display_name": "Python 3",
   "language": "python",
   "name": "python3"
  },
  "language_info": {
   "codemirror_mode": {
    "name": "ipython",
    "version": 3
   },
   "file_extension": ".py",
   "mimetype": "text/x-python",
   "name": "python",
   "nbconvert_exporter": "python",
   "pygments_lexer": "ipython3",
   "version": "3.12.6"
  }
 },
 "nbformat": 4,
 "nbformat_minor": 5
}
